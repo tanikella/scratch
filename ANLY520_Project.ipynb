{
  "nbformat": 4,
  "nbformat_minor": 0,
  "metadata": {
    "colab": {
      "name": "ANLY520_Project.ipynb",
      "provenance": [],
      "collapsed_sections": []
    },
    "kernelspec": {
      "name": "python3",
      "display_name": "Python 3"
    },
    "language_info": {
      "name": "python"
    }
  },
  "cells": [
    {
      "cell_type": "code",
      "metadata": {
        "id": "aqLoKBYO5t3k",
        "colab": {
          "base_uri": "https://localhost:8080/"
        },
        "outputId": "0235952f-86dc-42ed-efdc-25690ad2a9e1"
      },
      "source": [
        "!pip install unidecode\n",
        "!pip install -q wordcloud\n",
        "import wordcloud\n",
        "import nltk\n",
        "nltk.download('stopwords')\n",
        "nltk.download('wordnet')\n",
        "nltk.download('punkt')\n",
        "nltk.download('averaged_perceptron_tagger') "
      ],
      "execution_count": 1,
      "outputs": [
        {
          "output_type": "stream",
          "text": [
            "Requirement already satisfied: unidecode in /usr/local/lib/python3.7/dist-packages (1.2.0)\n",
            "[nltk_data] Downloading package stopwords to /root/nltk_data...\n",
            "[nltk_data]   Package stopwords is already up-to-date!\n",
            "[nltk_data] Downloading package wordnet to /root/nltk_data...\n",
            "[nltk_data]   Package wordnet is already up-to-date!\n",
            "[nltk_data] Downloading package punkt to /root/nltk_data...\n",
            "[nltk_data]   Package punkt is already up-to-date!\n",
            "[nltk_data] Downloading package averaged_perceptron_tagger to\n",
            "[nltk_data]     /root/nltk_data...\n",
            "[nltk_data]   Package averaged_perceptron_tagger is already up-to-\n",
            "[nltk_data]       date!\n"
          ],
          "name": "stdout"
        },
        {
          "output_type": "execute_result",
          "data": {
            "text/plain": [
              "True"
            ]
          },
          "metadata": {
            "tags": []
          },
          "execution_count": 1
        }
      ]
    },
    {
      "cell_type": "code",
      "metadata": {
        "id": "LjGiWxrULjs7"
      },
      "source": [
        "# import necessary libraries\n",
        "\n",
        "import re\n",
        "import random\n",
        "import numpy as np\n",
        "import pandas as pd\n",
        "import unidecode\n",
        "from gensim.models import Word2Vec\n",
        "from nltk.corpus import stopwords\n",
        "from nltk.stem import PorterStemmer\n",
        "from textblob import Word"
      ],
      "execution_count": 2,
      "outputs": []
    },
    {
      "cell_type": "code",
      "metadata": {
        "id": "x8ECvxwYMxVI",
        "colab": {
          "base_uri": "https://localhost:8080/"
        },
        "outputId": "ddc6eedd-2b98-4a7b-c22d-21a6e7145426"
      },
      "source": [
        "# load data\n",
        "df = pd.read_csv(\"/content/drive/MyDrive/Colab Notebooks/TrumpTweets.csv\")\n",
        "print(df.shape)\n"
      ],
      "execution_count": 3,
      "outputs": [
        {
          "output_type": "stream",
          "text": [
            "(56571, 9)\n"
          ],
          "name": "stdout"
        }
      ]
    },
    {
      "cell_type": "code",
      "metadata": {
        "colab": {
          "base_uri": "https://localhost:8080/",
          "height": 206
        },
        "id": "O25boaBDjv-F",
        "outputId": "d99c7dce-ee63-4cda-d0af-a4cc5293d04f"
      },
      "source": [
        "# glimpse of raw dataset\n",
        "pd.set_option('display.max_columns', None)\n",
        "df.head(5)"
      ],
      "execution_count": 4,
      "outputs": [
        {
          "output_type": "execute_result",
          "data": {
            "text/html": [
              "<div>\n",
              "<style scoped>\n",
              "    .dataframe tbody tr th:only-of-type {\n",
              "        vertical-align: middle;\n",
              "    }\n",
              "\n",
              "    .dataframe tbody tr th {\n",
              "        vertical-align: top;\n",
              "    }\n",
              "\n",
              "    .dataframe thead th {\n",
              "        text-align: right;\n",
              "    }\n",
              "</style>\n",
              "<table border=\"1\" class=\"dataframe\">\n",
              "  <thead>\n",
              "    <tr style=\"text-align: right;\">\n",
              "      <th></th>\n",
              "      <th>id</th>\n",
              "      <th>text</th>\n",
              "      <th>isRetweet</th>\n",
              "      <th>isDeleted</th>\n",
              "      <th>device</th>\n",
              "      <th>favorites</th>\n",
              "      <th>retweets</th>\n",
              "      <th>date</th>\n",
              "      <th>isFlagged</th>\n",
              "    </tr>\n",
              "  </thead>\n",
              "  <tbody>\n",
              "    <tr>\n",
              "      <th>0</th>\n",
              "      <td>98454970654916608</td>\n",
              "      <td>Republicans and Democrats have both created ou...</td>\n",
              "      <td>f</td>\n",
              "      <td>f</td>\n",
              "      <td>TweetDeck</td>\n",
              "      <td>49</td>\n",
              "      <td>255</td>\n",
              "      <td>2011-08-02 18:07:48</td>\n",
              "      <td>f</td>\n",
              "    </tr>\n",
              "    <tr>\n",
              "      <th>1</th>\n",
              "      <td>1234653427789070336</td>\n",
              "      <td>I was thrilled to be back in the Great city of...</td>\n",
              "      <td>f</td>\n",
              "      <td>f</td>\n",
              "      <td>Twitter for iPhone</td>\n",
              "      <td>73748</td>\n",
              "      <td>17404</td>\n",
              "      <td>2020-03-03 01:34:50</td>\n",
              "      <td>f</td>\n",
              "    </tr>\n",
              "    <tr>\n",
              "      <th>2</th>\n",
              "      <td>1218010753434820614</td>\n",
              "      <td>RT @CBS_Herridge: READ: Letter to surveillance...</td>\n",
              "      <td>t</td>\n",
              "      <td>f</td>\n",
              "      <td>Twitter for iPhone</td>\n",
              "      <td>0</td>\n",
              "      <td>7396</td>\n",
              "      <td>2020-01-17 03:22:47</td>\n",
              "      <td>f</td>\n",
              "    </tr>\n",
              "    <tr>\n",
              "      <th>3</th>\n",
              "      <td>1304875170860015617</td>\n",
              "      <td>The Unsolicited Mail In Ballot Scam is a major...</td>\n",
              "      <td>f</td>\n",
              "      <td>f</td>\n",
              "      <td>Twitter for iPhone</td>\n",
              "      <td>80527</td>\n",
              "      <td>23502</td>\n",
              "      <td>2020-09-12 20:10:58</td>\n",
              "      <td>f</td>\n",
              "    </tr>\n",
              "    <tr>\n",
              "      <th>4</th>\n",
              "      <td>1218159531554897920</td>\n",
              "      <td>RT @MZHemingway: Very friendly telling of even...</td>\n",
              "      <td>t</td>\n",
              "      <td>f</td>\n",
              "      <td>Twitter for iPhone</td>\n",
              "      <td>0</td>\n",
              "      <td>9081</td>\n",
              "      <td>2020-01-17 13:13:59</td>\n",
              "      <td>f</td>\n",
              "    </tr>\n",
              "  </tbody>\n",
              "</table>\n",
              "</div>"
            ],
            "text/plain": [
              "                    id                                               text  \\\n",
              "0    98454970654916608  Republicans and Democrats have both created ou...   \n",
              "1  1234653427789070336  I was thrilled to be back in the Great city of...   \n",
              "2  1218010753434820614  RT @CBS_Herridge: READ: Letter to surveillance...   \n",
              "3  1304875170860015617  The Unsolicited Mail In Ballot Scam is a major...   \n",
              "4  1218159531554897920  RT @MZHemingway: Very friendly telling of even...   \n",
              "\n",
              "  isRetweet isDeleted              device  favorites  retweets  \\\n",
              "0         f         f           TweetDeck         49       255   \n",
              "1         f         f  Twitter for iPhone      73748     17404   \n",
              "2         t         f  Twitter for iPhone          0      7396   \n",
              "3         f         f  Twitter for iPhone      80527     23502   \n",
              "4         t         f  Twitter for iPhone          0      9081   \n",
              "\n",
              "                  date isFlagged  \n",
              "0  2011-08-02 18:07:48         f  \n",
              "1  2020-03-03 01:34:50         f  \n",
              "2  2020-01-17 03:22:47         f  \n",
              "3  2020-09-12 20:10:58         f  \n",
              "4  2020-01-17 13:13:59         f  "
            ]
          },
          "metadata": {
            "tags": []
          },
          "execution_count": 4
        }
      ]
    },
    {
      "cell_type": "code",
      "metadata": {
        "colab": {
          "base_uri": "https://localhost:8080/"
        },
        "id": "86MBDfyWj2G7",
        "outputId": "4634efd9-31ef-445c-9245-0671cfc5d379"
      },
      "source": [
        "# load only tweet ID and actual tweet into another dataframe\n",
        "data = df[['id', 'text', 'date']]\n",
        "print(data.shape)"
      ],
      "execution_count": 5,
      "outputs": [
        {
          "output_type": "stream",
          "text": [
            "(56571, 3)\n"
          ],
          "name": "stdout"
        }
      ]
    },
    {
      "cell_type": "code",
      "metadata": {
        "id": "QSAPMm65tpM8",
        "colab": {
          "base_uri": "https://localhost:8080/"
        },
        "outputId": "b108df33-2d51-4960-f466-d9586ac5ba44"
      },
      "source": [
        "# pre-processing data\n",
        "\n",
        "# save hashtags in a separate column\n",
        "data.loc[:,'hashtags']  = data.loc[:,'text'].apply(lambda x: re.findall(r'\\B#\\w*[a-zA-Z]+\\w*', x))\n",
        "\n",
        "# lower case\n",
        "data.loc[:,'tweet'] = data.loc[:,'text'].apply(lambda x: \" \".join(x.lower() for x in x.split()))\n",
        "\n",
        "# remove links, mentions, emojis, special characters\n",
        "data.loc[:,'tweet'] = data.loc[:,'tweet'].apply(lambda x: \" \".join(re.sub(\"(&amp;)|(@[A-Za-z0-9]+)|([^0-9A-Za-z \\t])|(rt )|(\\w+:\\/\\/\\S+)\",\" \", x).split()))\n",
        "\n",
        "# remove numbers\n",
        "data.loc[:,'tweet'] = data.loc[:,'tweet'].apply(lambda x: \" \".join([y for y in x.split() if not y == '/d*']))\n",
        "\n",
        "# remove any symbols still left\n",
        "data.loc[:,'tweet'] = data.loc[:,'tweet'].apply(lambda x: \" \".join([unidecode.unidecode(y) for y in x.split()]))\n",
        "\n",
        "# remove stop words\n",
        "stop = stopwords.words('english')\n",
        "data.loc[:,'tweet'] = data.loc[:,'tweet'].apply(lambda x: \" \".join(x for x in x.split() if x not in stop))\n",
        "\n",
        "# stemming\n",
        "# st = PorterStemmer()\n",
        "# data.loc[:,'tweet'] = data.loc[:,'tweet'].apply(lambda x: \" \".join([st.stem(y) for y in x.split()]))\n",
        "\n",
        "# lemmatization\n",
        "data.loc[:,'tweet'] = data.loc[:,'tweet'].apply(lambda x: \" \".join([Word(y).lemmatize() for y in x.split()]))\n"
      ],
      "execution_count": 6,
      "outputs": [
        {
          "output_type": "stream",
          "text": [
            "/usr/local/lib/python3.7/dist-packages/pandas/core/indexing.py:1596: SettingWithCopyWarning: \n",
            "A value is trying to be set on a copy of a slice from a DataFrame.\n",
            "Try using .loc[row_indexer,col_indexer] = value instead\n",
            "\n",
            "See the caveats in the documentation: https://pandas.pydata.org/pandas-docs/stable/user_guide/indexing.html#returning-a-view-versus-a-copy\n",
            "  self.obj[key] = _infer_fill_value(value)\n",
            "/usr/local/lib/python3.7/dist-packages/pandas/core/indexing.py:1743: SettingWithCopyWarning: \n",
            "A value is trying to be set on a copy of a slice from a DataFrame.\n",
            "Try using .loc[row_indexer,col_indexer] = value instead\n",
            "\n",
            "See the caveats in the documentation: https://pandas.pydata.org/pandas-docs/stable/user_guide/indexing.html#returning-a-view-versus-a-copy\n",
            "  isetter(ilocs[0], value)\n"
          ],
          "name": "stderr"
        }
      ]
    },
    {
      "cell_type": "code",
      "metadata": {
        "id": "fWgeaz1ORJQz",
        "colab": {
          "base_uri": "https://localhost:8080/"
        },
        "outputId": "6a6db4dc-23ae-4100-dc54-0b136dd6dda8"
      },
      "source": [
        "# tokenize tweets\n",
        "data.loc[:,'token_tweet'] = data.loc[:,'tweet'].apply(nltk.word_tokenize)"
      ],
      "execution_count": 7,
      "outputs": [
        {
          "output_type": "stream",
          "text": [
            "/usr/local/lib/python3.7/dist-packages/pandas/core/indexing.py:1596: SettingWithCopyWarning: \n",
            "A value is trying to be set on a copy of a slice from a DataFrame.\n",
            "Try using .loc[row_indexer,col_indexer] = value instead\n",
            "\n",
            "See the caveats in the documentation: https://pandas.pydata.org/pandas-docs/stable/user_guide/indexing.html#returning-a-view-versus-a-copy\n",
            "  self.obj[key] = _infer_fill_value(value)\n",
            "/usr/local/lib/python3.7/dist-packages/pandas/core/indexing.py:1743: SettingWithCopyWarning: \n",
            "A value is trying to be set on a copy of a slice from a DataFrame.\n",
            "Try using .loc[row_indexer,col_indexer] = value instead\n",
            "\n",
            "See the caveats in the documentation: https://pandas.pydata.org/pandas-docs/stable/user_guide/indexing.html#returning-a-view-versus-a-copy\n",
            "  isetter(ilocs[0], value)\n"
          ],
          "name": "stderr"
        }
      ]
    },
    {
      "cell_type": "code",
      "metadata": {
        "id": "dz3iFJKSEUFa",
        "colab": {
          "base_uri": "https://localhost:8080/",
          "height": 115
        },
        "outputId": "5dad4f5c-fb8a-41c0-836e-132beb01826a"
      },
      "source": [
        "# check values of a tweet\n",
        "pd.options.display.max_colwidth = 300\n",
        "data.loc[data['id'] == 1326194143132082178]"
      ],
      "execution_count": 8,
      "outputs": [
        {
          "output_type": "execute_result",
          "data": {
            "text/html": [
              "<div>\n",
              "<style scoped>\n",
              "    .dataframe tbody tr th:only-of-type {\n",
              "        vertical-align: middle;\n",
              "    }\n",
              "\n",
              "    .dataframe tbody tr th {\n",
              "        vertical-align: top;\n",
              "    }\n",
              "\n",
              "    .dataframe thead th {\n",
              "        text-align: right;\n",
              "    }\n",
              "</style>\n",
              "<table border=\"1\" class=\"dataframe\">\n",
              "  <thead>\n",
              "    <tr style=\"text-align: right;\">\n",
              "      <th></th>\n",
              "      <th>id</th>\n",
              "      <th>text</th>\n",
              "      <th>date</th>\n",
              "      <th>hashtags</th>\n",
              "      <th>tweet</th>\n",
              "      <th>token_tweet</th>\n",
              "    </tr>\n",
              "  </thead>\n",
              "  <tbody>\n",
              "    <tr>\n",
              "      <th>189</th>\n",
              "      <td>1326194143132082178</td>\n",
              "      <td>Republicans, don’t let Andrew McCabe continue to get away with totally criminal activity. What he did should never be allowed to happen to our Country again. FIGHT FOR JUSTICE!</td>\n",
              "      <td>2020-11-10 16:04:57</td>\n",
              "      <td>[]</td>\n",
              "      <td>republican let andrew mccabe continue get away totally criminal activity never allowed happen country fight justice</td>\n",
              "      <td>[republican, let, andrew, mccabe, continue, get, away, totally, criminal, activity, never, allowed, happen, country, fight, justice]</td>\n",
              "    </tr>\n",
              "  </tbody>\n",
              "</table>\n",
              "</div>"
            ],
            "text/plain": [
              "                      id  \\\n",
              "189  1326194143132082178   \n",
              "\n",
              "                                                                                                                                                                                 text  \\\n",
              "189  Republicans, don’t let Andrew McCabe continue to get away with totally criminal activity. What he did should never be allowed to happen to our Country again. FIGHT FOR JUSTICE!   \n",
              "\n",
              "                    date hashtags  \\\n",
              "189  2020-11-10 16:04:57       []   \n",
              "\n",
              "                                                                                                                   tweet  \\\n",
              "189  republican let andrew mccabe continue get away totally criminal activity never allowed happen country fight justice   \n",
              "\n",
              "                                                                                                                              token_tweet  \n",
              "189  [republican, let, andrew, mccabe, continue, get, away, totally, criminal, activity, never, allowed, happen, country, fight, justice]  "
            ]
          },
          "metadata": {
            "tags": []
          },
          "execution_count": 8
        }
      ]
    },
    {
      "cell_type": "code",
      "metadata": {
        "id": "9Qhv2IgMQQk5",
        "colab": {
          "base_uri": "https://localhost:8080/"
        },
        "outputId": "48800186-3ac2-49c3-c571-31c43e006231"
      },
      "source": [
        "# check 5 most used words from Trump's tweets\n",
        "freq = pd.Series(' '.join(data['tweet']).split()).value_counts()[:5]\n",
        "freq"
      ],
      "execution_count": 9,
      "outputs": [
        {
          "output_type": "execute_result",
          "data": {
            "text/plain": [
              "great        7694\n",
              "trump        7034\n",
              "president    4856\n",
              "amp          4415\n",
              "thank        3622\n",
              "dtype: int64"
            ]
          },
          "metadata": {
            "tags": []
          },
          "execution_count": 9
        }
      ]
    },
    {
      "cell_type": "code",
      "metadata": {
        "id": "w-A5zwFiTIF4"
      },
      "source": [
        "# word2vec model\n",
        "model = Word2Vec(data['token_tweet'], min_count=10)\n",
        "\n",
        "# words in model vocab\n",
        "words = model.wv.vocab"
      ],
      "execution_count": 10,
      "outputs": []
    },
    {
      "cell_type": "code",
      "metadata": {
        "id": "CyIl9gsX6maJ"
      },
      "source": [
        "# bag all words greater than 0.9 for hatred, divisive and racism\n",
        "racism = model.wv.most_similar('racist', topn=len(model.wv.vocab))\n",
        "hatred = model.wv.most_similar('hatred', topn=len(model.wv.vocab))\n",
        "divisive = model.wv.most_similar('division', topn=len(model.wv.vocab))\n",
        "\n",
        "racism_bag = [rw[0] for rw in racism if rw[1] > 0.9]\n",
        "hatred_bag = [rw[0] for rw in hatred if rw[1] > 0.9]\n",
        "divisive_bag = [rw[0] for rw in divisive if rw[1] > 0.9]"
      ],
      "execution_count": 11,
      "outputs": []
    },
    {
      "cell_type": "code",
      "metadata": {
        "id": "TjfJ1uBUbJFA",
        "colab": {
          "base_uri": "https://localhost:8080/"
        },
        "outputId": "34c6e1cc-be4b-4272-91f0-e9c60f92e16d"
      },
      "source": [
        "# get counts\n",
        "while True:\n",
        "  print(f'Vocabulary size - {len(model.wv.vocab)}')\n",
        "  print(f'Racism bag size - {len(racism_bag)}')\n",
        "  print(f'Hatred bag size - {len(hatred_bag)}')\n",
        "  print(f'Division bag size - {len(divisive_bag)}')\n",
        "  print(f'Common words in all the bags - {len(list(set(racism_bag) & set(hatred_bag) & set(divisive_bag)))}')\n",
        "  break"
      ],
      "execution_count": 12,
      "outputs": [
        {
          "output_type": "stream",
          "text": [
            "Vocabulary size - 5406\n",
            "Racism bag size - 89\n",
            "Hatred bag size - 1031\n",
            "Division bag size - 2067\n",
            "Common words in all the bags - 52\n"
          ],
          "name": "stdout"
        }
      ]
    },
    {
      "cell_type": "code",
      "metadata": {
        "id": "wjad3mEge8pp"
      },
      "source": [
        "# define a class to assign class to a tweet\n",
        "def tweet_class(token_tweet):\n",
        "  # print(len(token_tweet))\n",
        "  # token = list(token_tweet)\n",
        "  token = token_tweet\n",
        "  if len(token) == 0:\n",
        "    r_ct = 0\n",
        "    h_ct = 0\n",
        "    d_ct = 0\n",
        "  else:\n",
        "    r_ct = len(list(set(token) & set(racism_bag))) / len(token)\n",
        "    h_ct = len(list(set(token) & set(hatred_bag))) / len(token)\n",
        "    d_ct = len(list(set(token) & set(divisive_bag))) / len(token)\n",
        "\n",
        "  if r_ct >= 0.06 and r_ct > h_ct and r_ct > d_ct:\n",
        "    return 'racism'\n",
        "  elif h_ct >= 0.06 and h_ct > r_ct and h_ct > d_ct:\n",
        "    return 'hatred'\n",
        "  elif d_ct >= 0.06 and d_ct > r_ct and d_ct > h_ct:\n",
        "    return 'divisive'\n",
        "  elif r_ct >= 0.06 and h_ct >= 0.06 and d_ct < 0.06:\n",
        "    return random.choice(['racism', 'hatred'])\n",
        "  elif h_ct >= 0.06 and d_ct >= 0.06 and r_ct < 0.06:\n",
        "    return random.choice(['hatred', 'divisive'])\n",
        "  elif d_ct >= 0.06 and r_ct >= 0.06 and h_ct < 0.06:\n",
        "    return random.choice(['divisive', 'racism'])\n",
        "  elif r_ct >= 0.06 and h_ct >= 0.06 and d_ct >= 0.06:\n",
        "    return random.choice(['racism', 'hatred', 'divisive'])\n",
        "  else:\n",
        "    return 'none'"
      ],
      "execution_count": 13,
      "outputs": []
    },
    {
      "cell_type": "code",
      "metadata": {
        "id": "O2iNpVDGjmt5",
        "colab": {
          "base_uri": "https://localhost:8080/"
        },
        "outputId": "63858906-c175-4811-85f9-4a9003009a0f"
      },
      "source": [
        "# classify tweets\n",
        "data.loc[:,'tweet_class'] = data.loc[:,'token_tweet'].apply(lambda x: tweet_class(x))"
      ],
      "execution_count": 14,
      "outputs": [
        {
          "output_type": "stream",
          "text": [
            "/usr/local/lib/python3.7/dist-packages/pandas/core/indexing.py:1596: SettingWithCopyWarning: \n",
            "A value is trying to be set on a copy of a slice from a DataFrame.\n",
            "Try using .loc[row_indexer,col_indexer] = value instead\n",
            "\n",
            "See the caveats in the documentation: https://pandas.pydata.org/pandas-docs/stable/user_guide/indexing.html#returning-a-view-versus-a-copy\n",
            "  self.obj[key] = _infer_fill_value(value)\n",
            "/usr/local/lib/python3.7/dist-packages/pandas/core/indexing.py:1743: SettingWithCopyWarning: \n",
            "A value is trying to be set on a copy of a slice from a DataFrame.\n",
            "Try using .loc[row_indexer,col_indexer] = value instead\n",
            "\n",
            "See the caveats in the documentation: https://pandas.pydata.org/pandas-docs/stable/user_guide/indexing.html#returning-a-view-versus-a-copy\n",
            "  isetter(ilocs[0], value)\n"
          ],
          "name": "stderr"
        }
      ]
    },
    {
      "cell_type": "code",
      "metadata": {
        "id": "Nj2zl1oSn3Ec",
        "colab": {
          "base_uri": "https://localhost:8080/"
        },
        "outputId": "f3db6bdb-8128-4fd0-b96d-80ae67e7ce99"
      },
      "source": [
        "# check counts of classified tweet values\n",
        "while True:\n",
        "  print(f\"Tweets classfied as none - {data[data.loc[:,'tweet_class'] == 'none'].shape[0]}\")\n",
        "  print(f\"Tweets classfied as racism - {data[data.loc[:,'tweet_class'] == 'racism'].shape[0]}\")\n",
        "  print(f\"Tweets classfied as hatred - {data[data.loc[:,'tweet_class'] == 'hatred'].shape[0]}\")\n",
        "  print(f\"Tweets classfied as divisive - {data[data.loc[:,'tweet_class'] == 'divisive'].shape[0]}\")\n",
        "  print(f\"Total Tweets - {data.loc[:,'tweet_class'].shape[0]}\")\n",
        "  break"
      ],
      "execution_count": 15,
      "outputs": [
        {
          "output_type": "stream",
          "text": [
            "Tweets classfied as none - 28462\n",
            "Tweets classfied as racism - 722\n",
            "Tweets classfied as hatred - 7263\n",
            "Tweets classfied as divisive - 20124\n",
            "Total Tweets - 56571\n"
          ],
          "name": "stdout"
        }
      ]
    },
    {
      "cell_type": "code",
      "metadata": {
        "colab": {
          "base_uri": "https://localhost:8080/"
        },
        "id": "VPlzelu631G3",
        "outputId": "dcc88f12-5e87-4153-db80-ec3e81859c0c"
      },
      "source": [
        "# convert date field to usuable format for plots\n",
        "data.loc[:,'date'] = pd.to_datetime(data.loc[:,'date'], format = '%Y/%m/%d')\n",
        "\n",
        "# add year and month fields\n",
        "data.loc[:,'year'] = pd.DatetimeIndex(data.loc[:,'date']).year\n",
        "data.loc[:,'month'] = pd.DatetimeIndex(data.loc[:,'date']).month"
      ],
      "execution_count": 16,
      "outputs": [
        {
          "output_type": "stream",
          "text": [
            "/usr/local/lib/python3.7/dist-packages/pandas/core/indexing.py:1743: SettingWithCopyWarning: \n",
            "A value is trying to be set on a copy of a slice from a DataFrame.\n",
            "Try using .loc[row_indexer,col_indexer] = value instead\n",
            "\n",
            "See the caveats in the documentation: https://pandas.pydata.org/pandas-docs/stable/user_guide/indexing.html#returning-a-view-versus-a-copy\n",
            "  isetter(ilocs[0], value)\n",
            "/usr/local/lib/python3.7/dist-packages/pandas/core/indexing.py:1596: SettingWithCopyWarning: \n",
            "A value is trying to be set on a copy of a slice from a DataFrame.\n",
            "Try using .loc[row_indexer,col_indexer] = value instead\n",
            "\n",
            "See the caveats in the documentation: https://pandas.pydata.org/pandas-docs/stable/user_guide/indexing.html#returning-a-view-versus-a-copy\n",
            "  self.obj[key] = _infer_fill_value(value)\n"
          ],
          "name": "stderr"
        }
      ]
    },
    {
      "cell_type": "code",
      "metadata": {
        "colab": {
          "base_uri": "https://localhost:8080/",
          "height": 432
        },
        "id": "93yo_EMm4t71",
        "outputId": "ea30f2c5-16a7-4724-c054-443efa480191"
      },
      "source": [
        "# glimpse of final dataset\n",
        "pd.set_option('display.max_columns', None)\n",
        "data.head(5)"
      ],
      "execution_count": 17,
      "outputs": [
        {
          "output_type": "execute_result",
          "data": {
            "text/html": [
              "<div>\n",
              "<style scoped>\n",
              "    .dataframe tbody tr th:only-of-type {\n",
              "        vertical-align: middle;\n",
              "    }\n",
              "\n",
              "    .dataframe tbody tr th {\n",
              "        vertical-align: top;\n",
              "    }\n",
              "\n",
              "    .dataframe thead th {\n",
              "        text-align: right;\n",
              "    }\n",
              "</style>\n",
              "<table border=\"1\" class=\"dataframe\">\n",
              "  <thead>\n",
              "    <tr style=\"text-align: right;\">\n",
              "      <th></th>\n",
              "      <th>id</th>\n",
              "      <th>text</th>\n",
              "      <th>date</th>\n",
              "      <th>hashtags</th>\n",
              "      <th>tweet</th>\n",
              "      <th>token_tweet</th>\n",
              "      <th>tweet_class</th>\n",
              "      <th>year</th>\n",
              "      <th>month</th>\n",
              "    </tr>\n",
              "  </thead>\n",
              "  <tbody>\n",
              "    <tr>\n",
              "      <th>0</th>\n",
              "      <td>98454970654916608</td>\n",
              "      <td>Republicans and Democrats have both created our economic problems.</td>\n",
              "      <td>2011-08-02 18:07:48</td>\n",
              "      <td>[]</td>\n",
              "      <td>republican democrat created economic problem</td>\n",
              "      <td>[republican, democrat, created, economic, problem]</td>\n",
              "      <td>none</td>\n",
              "      <td>2011</td>\n",
              "      <td>8</td>\n",
              "    </tr>\n",
              "    <tr>\n",
              "      <th>1</th>\n",
              "      <td>1234653427789070336</td>\n",
              "      <td>I was thrilled to be back in the Great city of Charlotte, North Carolina with thousands of hardworking American Patriots who love our Country, cherish our values, respect our laws, and always put AMERICA FIRST! Thank you for a wonderful evening!! #KAG2020 https://t.co/dNJZfRsl9y</td>\n",
              "      <td>2020-03-03 01:34:50</td>\n",
              "      <td>[#KAG2020]</td>\n",
              "      <td>thrilled back great city charlotte north carolina thousand hardworking american patriot love country cherish value respect law always put america first thank wonderful evening kag2020</td>\n",
              "      <td>[thrilled, back, great, city, charlotte, north, carolina, thousand, hardworking, american, patriot, love, country, cherish, value, respect, law, always, put, america, first, thank, wonderful, evening, kag2020]</td>\n",
              "      <td>none</td>\n",
              "      <td>2020</td>\n",
              "      <td>3</td>\n",
              "    </tr>\n",
              "    <tr>\n",
              "      <th>2</th>\n",
              "      <td>1218010753434820614</td>\n",
              "      <td>RT @CBS_Herridge: READ: Letter to surveillance court obtained by CBS News questions where there will be further disciplinary action and cho…</td>\n",
              "      <td>2020-01-17 03:22:47</td>\n",
              "      <td>[]</td>\n",
              "      <td>herridge read letter surveillance cou obtained cbs news question disciplinary action cho</td>\n",
              "      <td>[herridge, read, letter, surveillance, cou, obtained, cbs, news, question, disciplinary, action, cho]</td>\n",
              "      <td>divisive</td>\n",
              "      <td>2020</td>\n",
              "      <td>1</td>\n",
              "    </tr>\n",
              "    <tr>\n",
              "      <th>3</th>\n",
              "      <td>1304875170860015617</td>\n",
              "      <td>The Unsolicited Mail In Ballot Scam is a major threat to our Democracy, &amp;amp; the Democrats know it. Almost all recent elections using this system, even though much smaller &amp;amp;  with far fewer Ballots to count, have ended up being a disaster. Large numbers of missing Ballots &amp;amp; Fraud!</td>\n",
              "      <td>2020-09-12 20:10:58</td>\n",
              "      <td>[]</td>\n",
              "      <td>unsolicited mail ballot scam major threat democracy democrat know almost recent election using system even though much smaller far fewer ballot count ended disaster large number missing ballot fraud</td>\n",
              "      <td>[unsolicited, mail, ballot, scam, major, threat, democracy, democrat, know, almost, recent, election, using, system, even, though, much, smaller, far, fewer, ballot, count, ended, disaster, large, number, missing, ballot, fraud]</td>\n",
              "      <td>divisive</td>\n",
              "      <td>2020</td>\n",
              "      <td>9</td>\n",
              "    </tr>\n",
              "    <tr>\n",
              "      <th>4</th>\n",
              "      <td>1218159531554897920</td>\n",
              "      <td>RT @MZHemingway: Very friendly telling of events here about Comey's apparent leaking to compliant media. If you read those articles and tho…</td>\n",
              "      <td>2020-01-17 13:13:59</td>\n",
              "      <td>[]</td>\n",
              "      <td>friendly telling event comey apparent leaking compliant medium read article tho</td>\n",
              "      <td>[friendly, telling, event, comey, apparent, leaking, compliant, medium, read, article, tho]</td>\n",
              "      <td>hatred</td>\n",
              "      <td>2020</td>\n",
              "      <td>1</td>\n",
              "    </tr>\n",
              "  </tbody>\n",
              "</table>\n",
              "</div>"
            ],
            "text/plain": [
              "                    id  \\\n",
              "0    98454970654916608   \n",
              "1  1234653427789070336   \n",
              "2  1218010753434820614   \n",
              "3  1304875170860015617   \n",
              "4  1218159531554897920   \n",
              "\n",
              "                                                                                                                                                                                                                                                                                                 text  \\\n",
              "0                                                                                                                                                                                                                                  Republicans and Democrats have both created our economic problems.   \n",
              "1             I was thrilled to be back in the Great city of Charlotte, North Carolina with thousands of hardworking American Patriots who love our Country, cherish our values, respect our laws, and always put AMERICA FIRST! Thank you for a wonderful evening!! #KAG2020 https://t.co/dNJZfRsl9y   \n",
              "2                                                                                                                                                        RT @CBS_Herridge: READ: Letter to surveillance court obtained by CBS News questions where there will be further disciplinary action and cho…   \n",
              "3  The Unsolicited Mail In Ballot Scam is a major threat to our Democracy, &amp; the Democrats know it. Almost all recent elections using this system, even though much smaller &amp;  with far fewer Ballots to count, have ended up being a disaster. Large numbers of missing Ballots &amp; Fraud!   \n",
              "4                                                                                                                                                        RT @MZHemingway: Very friendly telling of events here about Comey's apparent leaking to compliant media. If you read those articles and tho…   \n",
              "\n",
              "                 date    hashtags  \\\n",
              "0 2011-08-02 18:07:48          []   \n",
              "1 2020-03-03 01:34:50  [#KAG2020]   \n",
              "2 2020-01-17 03:22:47          []   \n",
              "3 2020-09-12 20:10:58          []   \n",
              "4 2020-01-17 13:13:59          []   \n",
              "\n",
              "                                                                                                                                                                                                    tweet  \\\n",
              "0                                                                                                                                                            republican democrat created economic problem   \n",
              "1                 thrilled back great city charlotte north carolina thousand hardworking american patriot love country cherish value respect law always put america first thank wonderful evening kag2020   \n",
              "2                                                                                                                herridge read letter surveillance cou obtained cbs news question disciplinary action cho   \n",
              "3  unsolicited mail ballot scam major threat democracy democrat know almost recent election using system even though much smaller far fewer ballot count ended disaster large number missing ballot fraud   \n",
              "4                                                                                                                         friendly telling event comey apparent leaking compliant medium read article tho   \n",
              "\n",
              "                                                                                                                                                                                                                            token_tweet  \\\n",
              "0                                                                                                                                                                                    [republican, democrat, created, economic, problem]   \n",
              "1                     [thrilled, back, great, city, charlotte, north, carolina, thousand, hardworking, american, patriot, love, country, cherish, value, respect, law, always, put, america, first, thank, wonderful, evening, kag2020]   \n",
              "2                                                                                                                                 [herridge, read, letter, surveillance, cou, obtained, cbs, news, question, disciplinary, action, cho]   \n",
              "3  [unsolicited, mail, ballot, scam, major, threat, democracy, democrat, know, almost, recent, election, using, system, even, though, much, smaller, far, fewer, ballot, count, ended, disaster, large, number, missing, ballot, fraud]   \n",
              "4                                                                                                                                           [friendly, telling, event, comey, apparent, leaking, compliant, medium, read, article, tho]   \n",
              "\n",
              "  tweet_class  year  month  \n",
              "0        none  2011      8  \n",
              "1        none  2020      3  \n",
              "2    divisive  2020      1  \n",
              "3    divisive  2020      9  \n",
              "4      hatred  2020      1  "
            ]
          },
          "metadata": {
            "tags": []
          },
          "execution_count": 17
        }
      ]
    },
    {
      "cell_type": "code",
      "metadata": {
        "colab": {
          "base_uri": "https://localhost:8080/",
          "height": 628
        },
        "id": "X__QXqqD4N0H",
        "outputId": "bdf10d5e-29e0-41d1-a9be-87f50180e368"
      },
      "source": [
        "import matplotlib.pyplot as plt\n",
        "import seaborn as sns\n",
        "\n",
        "%config InlineBackend.figure_format = 'retina'\n",
        "plt.style.use('ggplot')\n",
        "\n",
        "# classified tweets against year\n",
        "sns.set(rc={'figure.figsize':(15,10)})\n",
        "sns.set_theme(style = 'darkgrid')\n",
        "sns.countplot(data=data, x = 'year', hue = 'tweet_class')"
      ],
      "execution_count": 18,
      "outputs": [
        {
          "output_type": "execute_result",
          "data": {
            "text/plain": [
              "<matplotlib.axes._subplots.AxesSubplot at 0x7ff127547910>"
            ]
          },
          "metadata": {
            "tags": []
          },
          "execution_count": 18
        },
        {
          "output_type": "display_data",
          "data": {
            "image/png": "[encoded data removed]",
            "text/plain": [
              "<Figure size 1080x720 with 1 Axes>"
            ]
          },
          "metadata": {
            "tags": [],
            "image/png": {
              "width": 905,
              "height": 593
            }
          }
        }
      ]
    },
    {
      "cell_type": "code",
      "metadata": {
        "colab": {
          "base_uri": "https://localhost:8080/",
          "height": 628
        },
        "id": "YMMCY6tS4leP",
        "outputId": "b3d4d6ca-067a-47ed-dfd9-5d2ff2fff0fd"
      },
      "source": [
        "# classified tweets against year\n",
        "sns.set(rc={'figure.figsize':(15,10)})\n",
        "sns.set_theme(style = 'darkgrid')\n",
        "sns.countplot(data=data, x = 'month', hue = 'tweet_class')"
      ],
      "execution_count": 19,
      "outputs": [
        {
          "output_type": "execute_result",
          "data": {
            "text/plain": [
              "<matplotlib.axes._subplots.AxesSubplot at 0x7ff127596a10>"
            ]
          },
          "metadata": {
            "tags": []
          },
          "execution_count": 19
        },
        {
          "output_type": "display_data",
          "data": {
            "image/png": "[encoded data removed]",
            "text/plain": [
              "<Figure size 1080x720 with 1 Axes>"
            ]
          },
          "metadata": {
            "tags": [],
            "image/png": {
              "width": 905,
              "height": 593
            }
          }
        }
      ]
    }
  ]
}